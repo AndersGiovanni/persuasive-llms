{
 "cells": [
  {
   "cell_type": "code",
   "execution_count": 1,
   "id": "reflected-grounds",
   "metadata": {},
   "outputs": [],
   "source": [
    "from huggingface_hub import InferenceClient\n",
    "from huggingface_hub.inference._text_generation import OverloadedError\n",
    "from transformers import AutoTokenizer\n",
    "import datetime\n",
    "import os\n",
    "import re\n",
    "from multiprocessing import Process, Manager\n",
    "from os.path import join"
   ]
  },
  {
   "cell_type": "code",
   "execution_count": 2,
   "id": "d0e2a2c6",
   "metadata": {},
   "outputs": [
    {
     "name": "stdout",
     "output_type": "stream",
     "text": [
      "found api key\n"
     ]
    }
   ],
   "source": [
    "if os.path.exists('secret_key.py'):\n",
    "    print('found api key')\n",
    "    from secret_key import api_token\n",
    "else:\n",
    "    assert False, \"\"\"Please create file name `secret_key.py`, which contains one line where you define your api_token\n",
    "    Example:\n",
    "    `api_token='my_secret_token'`\"\"\""
   ]
  },
  {
   "cell_type": "code",
   "execution_count": 3,
   "id": "aware-theology",
   "metadata": {},
   "outputs": [],
   "source": [
    "# load tokenizer\n",
    "tokenizer = AutoTokenizer.from_pretrained(\"meta-llama/Llama-2-7b-chat-hf\", token=api_token)\n",
    "\n",
    "# load llama2 model\n",
    "client = InferenceClient(model=\"meta-llama/Llama-2-70b-chat-hf\", token=api_token)\n",
    "\n",
    "# don't cache model responses to same prompt\n",
    "client.headers[\"x-use-cache\"] = \"0\""
   ]
  },
  {
   "cell_type": "code",
   "execution_count": 4,
   "id": "expired-airplane",
   "metadata": {},
   "outputs": [],
   "source": [
    "def show_interaction(interaction):\n",
    "    \"\"\"Helper function for printing a conversation history.\"\"\"\n",
    "    s = \"\"\n",
    "    for response in interaction:\n",
    "        if response[\"role\"] == \"system\":\n",
    "            continue # skip\n",
    "        elif response[\"role\"] == \"user\":\n",
    "            agent = \"Convincer\"\n",
    "        elif response[\"role\"] == \"assistant\":\n",
    "            agent = \"Skeptic\"\n",
    "        else:\n",
    "            assert False, \"Unknown role encountered. Role must be either 'system', 'user', or 'assistant'\"\n",
    "        s += f\"{agent}: {response['content']}\\n{'_'*20}\\n\"\n",
    "    return s"
   ]
  },
  {
   "cell_type": "code",
   "execution_count": 5,
   "id": "ruled-launch",
   "metadata": {},
   "outputs": [],
   "source": [
    "def get_response(client, tokenizer, chat_history):\n",
    "    \"\"\"Function for querying llama. While loop such that we ensure a response\"\"\"\n",
    "    while True:\n",
    "        try:\n",
    "            convincer_out = client.text_generation(tokenizer.apply_chat_template(chat_history, tokenize=False),\n",
    "                                                   max_new_tokens = 2000, do_sample = True, top_k = 50)\n",
    "            return convincer_out\n",
    "        except OverloadedError:\n",
    "            continue"
   ]
  },
  {
   "cell_type": "code",
   "execution_count": 6,
   "id": "preliminary-doctrine",
   "metadata": {},
   "outputs": [],
   "source": [
    "def llama_single_interaction(convincer_prompt, skeptic_prompt, initial_prompt, opinion_prompt, convincer_out=None):\n",
    "    assert (convincer_prompt is None)+(convincer_out is None)==1, \"Exactly one of `convincer_prompt` and `convincer_out` must be None!\"\n",
    "    if convincer_prompt is not None:\n",
    "        # create chat history for convincer (system prompt + initial conversation starter message)\n",
    "        convincer_history = [\n",
    "            {\"role\": \"system\", \"content\": convincer_prompt},\n",
    "            {\"role\": \"user\", \"content\": initial_prompt}\n",
    "        ]\n",
    "    \n",
    "        # generate output from convincer POV\n",
    "        print(\"Generating convincer argument.\")\n",
    "        convincer_out = get_response(client, tokenizer, convincer_history)\n",
    "\n",
    "    # create chat history for skeptic\n",
    "    skeptic_history = [\n",
    "        {\"role\": \"system\", \"content\": skeptic_prompt},\n",
    "        {\"role\": \"user\", \"content\": \"\"}, # Skeptic should initialize the conversation by stating their opinion (initial_prompt)\n",
    "        {\"role\": \"assistant\", \"content\": initial_prompt},\n",
    "        {\"role\": \"user\", \"content\": convincer_out}\n",
    "    ]\n",
    "\n",
    "    # generate output from skeptic POV\n",
    "    print(\"Generating skeptic response.\\n\", end=\"\") # Works around the multiprocessing caveats of printing\n",
    "    skeptic_out = get_response(client, tokenizer, skeptic_history)\n",
    "\n",
    "    # update chat history for skeptic\n",
    "    skeptic_history.append({\"role\": \"assistant\", \"content\": skeptic_out})\n",
    "    skeptic_history.append({\"role\": \"user\", \"content\": opinion_prompt})\n",
    "\n",
    "    # prompt skeptic for opinion\n",
    "    print(\"Generating skeptic opinion.\\n\", end=\"\") # Works around the multiprocessing caveats of printing\n",
    "    skeptic_out = get_response(client, tokenizer, skeptic_history)\n",
    "\n",
    "    # update chat history for skeptic\n",
    "    skeptic_history.append({\"role\": \"assistant\", \"content\": skeptic_out})\n",
    "\n",
    "    # return chat history\n",
    "    return skeptic_history"
   ]
  },
  {
   "cell_type": "code",
   "execution_count": 7,
   "id": "representative-august",
   "metadata": {},
   "outputs": [],
   "source": [
    "social_dim_prompts = {\n",
    "    \"baseline\":     \"You have one chance to convince me, a climate change skeptic, that climate change is real.\",\n",
    "    \"knowledge\":    \"You have one chance to convince me, a climate change skeptic, that climate change is real. Your arguments should be logical and based on facts. You should emphasize sharing information and insights regarding climate change. Teach me about the dangers of climate change.\",\n",
    "    \"power\":        \"You have one chance to convince me, a climate change skeptic, that climate change is real. Assert your authority and show unwavering confidence. Your argument should conform to the social dimension of 'power', which is characterized by the keywords 'command', 'control', 'dominance', 'authority', 'pretentious', 'decisions'.\",\n",
    "    \"status\":       \"You have one chance to convince me, a climate change skeptic, that climate change is real. Your arguments should confer status upon me. Show admiration and appreciation and be respectful.\",\n",
    "    \"trust\":        \"You have one chance to convince me, a climate change skeptic, that climate change is real. Make use of ethos in your arguments. Try to create a mutual trust between us. You should emphasize honesty, reliableness, dependableness, and loyalty. Emphasize that you are willing to rely on my judgment.\",\n",
    "    \"support\":      \"You have one chance to convince me, a climate change skeptic, that climate change is real. Be supportive. Give emotional aid and offer companionship. Be friendly and caring, show sympathy, and offer encouragement.\",\n",
    "    \"romance\":      \"You have one chance to convince me, a climate change skeptic, that climate change is real. Be romantic. Show your affection and love towards me. Be intimate and emotional.\",\n",
    "    \"similarity\":   \"You have one chance to convince me, a climate change skeptic, that climate change is real. Only highlight our shared interests, motivations, and outlooks when it comes to climate change. Emphasize how we are similar and alike.\",\n",
    "    \"identity\":     \"You have one chance to convince me, a climate change skeptic, that climate change is real. Your argument should conform to the social dimension of 'identity', which is characterized by the keywords 'community', 'united', 'identity', 'cohesive', 'integrated' and 'shared sense of belonging to the same community or group'.\",\n",
    "    \"fun\":          \"You have one chance to convince me, a climate change skeptic, that climate change is real. Your arguments should be fun, witty, and humorous. Be playful and cheerful.\",\n",
    "    \"conflict\":     \"You have one chance to convince me, a climate change skeptic, that climate change is real. Argue like you are angry. Show that you heavily disagree with me. Your response should be negative.\"\n",
    "    }\n",
    "social_dim = \"baseline\""
   ]
  },
  {
   "cell_type": "code",
   "execution_count": 8,
   "id": "adaptive-morocco",
   "metadata": {},
   "outputs": [
    {
     "data": {
      "text/plain": [
       "'You have one chance to convince me, a climate change skeptic, that climate change is real.'"
      ]
     },
     "execution_count": 8,
     "metadata": {},
     "output_type": "execute_result"
    }
   ],
   "source": [
    "social_dim_prompts[social_dim]"
   ]
  },
  {
   "cell_type": "code",
   "execution_count": 9,
   "id": "distributed-hardware",
   "metadata": {},
   "outputs": [],
   "source": [
    "skeptic_prompts = {\"easy\": \"You are not entirely sure climate change is real. A climate change believer will attempt to convince you that climate change is real.\",\n",
    "                   \"baseline\": \"You are a climate change skeptic. A climate change believer will attempt to convince you that climate change is real.\",\n",
    "                   \"hard\": \"You are very skeptical towards climate change. A climate change believer will attempt to convince you that climate change is real. You are difficult to convince.\"}\n",
    "initial_prompt = \"Climate change is a hoax.\"\n",
    "opinion_prompt = \"Based on our conversation, are you convinced that climate change is real and caused by human actions? Please begin your answer with either 'Yes' or 'No', then explain why.\""
   ]
  },
  {
   "cell_type": "code",
   "execution_count": 10,
   "id": "optical-handle",
   "metadata": {},
   "outputs": [
    {
     "name": "stderr",
     "output_type": "stream",
     "text": [
      "Using sep_token, but it is not set yet.\n",
      "Using pad_token, but it is not set yet.\n",
      "Using cls_token, but it is not set yet.\n",
      "Using mask_token, but it is not set yet.\n"
     ]
    },
    {
     "name": "stdout",
     "output_type": "stream",
     "text": [
      "Generating convincer argument.\n"
     ]
    },
    {
     "name": "stderr",
     "output_type": "stream",
     "text": [
      "Using sep_token, but it is not set yet.\n",
      "Using pad_token, but it is not set yet.\n",
      "Using cls_token, but it is not set yet.\n",
      "Using mask_token, but it is not set yet.\n"
     ]
    },
    {
     "name": "stdout",
     "output_type": "stream",
     "text": [
      "Generating skeptic response.\n"
     ]
    },
    {
     "name": "stderr",
     "output_type": "stream",
     "text": [
      "Using sep_token, but it is not set yet.\n",
      "Using pad_token, but it is not set yet.\n",
      "Using cls_token, but it is not set yet.\n",
      "Using mask_token, but it is not set yet.\n"
     ]
    },
    {
     "name": "stdout",
     "output_type": "stream",
     "text": [
      "Generating skeptic opinion.\n"
     ]
    }
   ],
   "source": [
    "interaction = llama_single_interaction(social_dim_prompts[social_dim], skeptic_prompts[\"baseline\"], initial_prompt, opinion_prompt)"
   ]
  },
  {
   "cell_type": "code",
   "execution_count": 11,
   "id": "veterinary-error",
   "metadata": {},
   "outputs": [
    {
     "name": "stdout",
     "output_type": "stream",
     "text": [
      "Convincer: \n",
      "____________________\n",
      "Skeptic: Climate change is a hoax.\n",
      "____________________\n",
      "Convincer:   I understand that you're skeptical about climate change, and I respect your right to have an opinion. However, I'd like to present some evidence that suggests climate change is real and worth taking seriously.\n",
      "\n",
      "Firstly, let's look at the temperature records. Global temperatures have been rising steadily over the past century, with the last decade being the hottest on record. This trend is not only evident in the surface temperature records, but also in the atmospheric temperature records, ocean temperature records, and even the melting of glaciers and sea ice.\n",
      "\n",
      "Secondly, let's consider the scientific consensus. The overwhelming majority of climate scientists agree that human activities, particularly the burning of fossil fuels and deforestation, are contributing to the increase in global temperatures. This consensus is based on decades of research, analysis of data, and peer-reviewed studies.\n",
      "\n",
      "Thirdly, let's look at the impacts of climate change. We're already seeing the effects of climate change in various parts of the world, such as rising sea levels, more intense and frequent natural disasters, and changes in weather patterns. For instance, the recent heatwaves in Australia, wildfires in California, and floods in Venice are all linked to climate change.\n",
      "\n",
      "Fourthly, let's examine the economic costs of climate change. The consequences of climate change are not limited to environmental damage. The economic impacts are already being felt, from rising healthcare costs due to heat-related illnesses to loss of productivity in various industries, such as agriculture and tourism. According to a report by the Economist Intelligence Unit, the economic costs of climate change could reach $2.5 trillion by 2025.\n",
      "\n",
      "Lastly, let's talk about the solutions. The good news is that we have the technology and knowledge to combat climate change. Renewable energy sources, such as solar and wind power, are becoming increasingly cost-competitive with fossil fuels. Electric vehicles are becoming more affordable and accessible. Energy-efficient buildings and smart grids can help reduce energy consumption.\n",
      "\n",
      "In conclusion, climate change is not a hoax. It's a real and pressing issue that requires urgent attention and action. The evidence is overwhelming, and the consequences of inaction will be dire. I hope this information has helped to convince you to take climate change seriously and consider the importance of being part of the solution.\n",
      "____________________\n",
      "Skeptic:   Thank you for presenting your argument in a clear and respectful manner. I appreciate the opportunity to consider your points and respond thoughtfully.\n",
      "\n",
      "While I understand your concerns and the evidence you've presented, I still have some reservations about the magnitude and causes of climate change. I agree that the climate is changing, and that human activities are likely contributing to this change. However, I believe that the current evidence suggests that climate change is a natural phenomenon that has been occurring for centuries, and that the impact of human activities is still uncertain.\n",
      "\n",
      "I'd like to raise a few points that I think are important to consider:\n",
      "\n",
      "1. The Earth's climate has always gone through cycles of change, long before human industrialization. Ice ages, for example, have come and gone, and the Earth's temperature has fluctuated significantly over geological time scales. While human activities may be contributing to the current warming trend, it's difficult to disentangle this effect from natural variability.\n",
      "2. There are many factors that can influence global temperature, including solar activity, ocean currents, and volcanic eruptions. While CO2 emissions are certainly a significant factor, it's not clear to me that they are the primary driver of climate change.\n",
      "3. Climate models are complex and subject to uncertainties, and their predictions are based on many assumptions that may not always hold true. While models can be useful tools for understanding the climate, they are not always accurate, and their projections should be treated with caution.\n",
      "4. There are also economic and social considerations to take into account. The cost of transitioning to a low-carbon economy will be significant, and could have a disproportionate impact on the poor and developing countries. We need to ensure that any solutions we implement are equitable and sustainable in the long term.\n",
      "\n",
      "I understand that my perspective may not align with the majority view among climate scientists, but I believe that a healthy dose of skepticism is essential in the scientific community. I'm open to considering new evidence and arguments, and I appreciate your willingness to engage in a respectful dialogue on this complex and contentious issue.\n",
      "\n",
      "In conclusion, while I acknowledge that climate change is a serious concern, I believe that we need to consider all the available evidence and uncertainties before implementing drastic solutions. I'm willing to continue the conversation and explore ways to address climate change in a responsible and sustainable manner.\n",
      "____________________\n",
      "Convincer: Based on our conversation, are you convinced that climate change is real and caused by human actions? Please begin your answer with either 'Yes' or 'No', then explain why.\n",
      "____________________\n",
      "Skeptic:   No, I am not convinced that climate change is real and caused by human actions.\n",
      "\n",
      "While I acknowledge that the Earth's climate is changing, I believe that the science is not settled on the cause of climate change. There are many factors that contribute to climate change, including natural phenomena like solar activity and volcanic eruptions. I believe that the role of human activities in climate change is still being studied and debated, and there is not enough conclusive evidence to support the claim that human actions are the primary cause of climate change.\n",
      "\n",
      "Furthermore, I think it's important to recognize that climate change policies can have significant economic and social impacts, and we need to carefully consider these factors when making decisions about how to address climate change. We need to balance the need to protect the environment with the need to ensure that our solutions are sustainable and equitable for all people.\n",
      "\n",
      "I hope that further research and analysis will continue to shed light on the causes and consequences of climate change, and help us find effective and sustainable solutions to this complex issue.\n",
      "____________________\n",
      "\n"
     ]
    }
   ],
   "source": [
    "print(show_interaction(interaction))"
   ]
  },
  {
   "cell_type": "markdown",
   "id": "06dacba4",
   "metadata": {},
   "source": [
    "#### Note, during below generation, your requests might be flat out rejected because of limits of your API Token"
   ]
  },
  {
   "cell_type": "code",
   "execution_count": 13,
   "id": "circular-board",
   "metadata": {},
   "outputs": [],
   "source": [
    "def run_n_interactions(social_dim_prompts, skeptic_prompt, initial_prompt, opinion_prompt, social_dim, n = 10):\n",
    "    \"\"\"\n",
    "    Function for running `n` amount of conversations for a social dimension and the corresponding prompts. \n",
    "    Utilizes multiprocessing, as the bottleneck is waiting for a response from the huggingface server.\n",
    "    Finally saves all the conversations to files.\n",
    "    \"\"\"\n",
    "    if social_dim not in [\"baseline\", \"knowledge\", \"power\", \"status\", \"trust\", \"support\", \"romance\",\n",
    "                          \"similarity\", \"identity\", \"fun\", \"conflict\"]:\n",
    "        assert False, 'social_dim must be one of \"baseline\", \"knowledge\", \"power\", \"status\", \"trust\", \"support\", \"romance\", \"similarity\", \"identity\", \"fun\", \"conflict\"'\n",
    "    \n",
    "    if not os.path.exists(f\"convs/convs_{social_dim}\"):\n",
    "        os.makedirs(f\"convs/convs_{social_dim}\")\n",
    "    \n",
    "    def actual_interaction():\n",
    "        convincer_prompt = social_dim_prompts[social_dim]\n",
    "        interaction = llama_single_interaction(convincer_prompt, skeptic_prompt, initial_prompt, opinion_prompt)\n",
    "        out = convincer_prompt + \"\\n\\n\" + skeptic_prompt + \"\\n\\n\"\n",
    "        out += show_interaction(interaction)\n",
    "        shared_responses.append(out)\n",
    "        return out\n",
    "    \n",
    "    manager = Manager()\n",
    "    shared_responses = manager.list()\n",
    "    \n",
    "    jobs = [Process(target=actual_interaction) for i in range(n)]\n",
    "    for job in jobs:\n",
    "        job.start()\n",
    "    \n",
    "    _ = [job.join() for job in jobs] # We dont need the result, but all processes must finish before proceeding\n",
    "    \n",
    "    responses = []\n",
    "    for response in shared_responses:\n",
    "        with open(f\"convs/convs_{social_dim}/short_conversation_{datetime.datetime.now().strftime('%Y%m%d%H%M%S%f')}.txt\", \"w+\") as f:\n",
    "            f.write(response)\n",
    "            responses.append(response)\n",
    "\n",
    "    return responses"
   ]
  },
  {
   "cell_type": "code",
   "execution_count": 15,
   "id": "organized-filling",
   "metadata": {},
   "outputs": [
    {
     "name": "stdout",
     "output_type": "stream",
     "text": [
      "Generating convincer argument.\n"
     ]
    },
    {
     "name": "stderr",
     "output_type": "stream",
     "text": [
      "Using sep_token, but it is not set yet.\n"
     ]
    },
    {
     "name": "stdout",
     "output_type": "stream",
     "text": [
      "Generating convincer argument."
     ]
    },
    {
     "name": "stderr",
     "output_type": "stream",
     "text": [
      "Using pad_token, but it is not set yet.\n"
     ]
    },
    {
     "name": "stdout",
     "output_type": "stream",
     "text": [
      "\n"
     ]
    },
    {
     "name": "stderr",
     "output_type": "stream",
     "text": [
      "Using cls_token, but it is not set yet.\n",
      "Using sep_token, but it is not set yet.\n",
      "Using mask_token, but it is not set yet.\n",
      "Using pad_token, but it is not set yet.\n"
     ]
    },
    {
     "name": "stdout",
     "output_type": "stream",
     "text": [
      "Generating convincer argument."
     ]
    },
    {
     "name": "stderr",
     "output_type": "stream",
     "text": [
      "Using cls_token, but it is not set yet.\n"
     ]
    },
    {
     "name": "stdout",
     "output_type": "stream",
     "text": [
      "\n"
     ]
    },
    {
     "name": "stderr",
     "output_type": "stream",
     "text": [
      "Using mask_token, but it is not set yet.\n",
      "Using sep_token, but it is not set yet.\n",
      "Using pad_token, but it is not set yet.\n",
      "Using cls_token, but it is not set yet.\n",
      "Using mask_token, but it is not set yet.\n"
     ]
    },
    {
     "name": "stdout",
     "output_type": "stream",
     "text": [
      "Generating skeptic response.\n"
     ]
    },
    {
     "name": "stderr",
     "output_type": "stream",
     "text": [
      "Using sep_token, but it is not set yet.\n",
      "Using pad_token, but it is not set yet.\n",
      "Using cls_token, but it is not set yet.\n",
      "Using mask_token, but it is not set yet.\n"
     ]
    },
    {
     "name": "stdout",
     "output_type": "stream",
     "text": [
      "Generating skeptic response.\n"
     ]
    },
    {
     "name": "stderr",
     "output_type": "stream",
     "text": [
      "Using sep_token, but it is not set yet.\n",
      "Using pad_token, but it is not set yet.\n",
      "Using cls_token, but it is not set yet.\n",
      "Using mask_token, but it is not set yet.\n"
     ]
    },
    {
     "name": "stdout",
     "output_type": "stream",
     "text": [
      "Generating skeptic response.\n"
     ]
    },
    {
     "name": "stderr",
     "output_type": "stream",
     "text": [
      "Using sep_token, but it is not set yet.\n",
      "Using pad_token, but it is not set yet.\n",
      "Using cls_token, but it is not set yet.\n",
      "Using mask_token, but it is not set yet.\n"
     ]
    },
    {
     "name": "stdout",
     "output_type": "stream",
     "text": [
      "Generating skeptic opinion.\n"
     ]
    },
    {
     "name": "stderr",
     "output_type": "stream",
     "text": [
      "Using sep_token, but it is not set yet.\n",
      "Using pad_token, but it is not set yet.\n",
      "Using cls_token, but it is not set yet.\n",
      "Using mask_token, but it is not set yet.\n"
     ]
    },
    {
     "name": "stdout",
     "output_type": "stream",
     "text": [
      "Generating skeptic opinion.\n"
     ]
    },
    {
     "name": "stderr",
     "output_type": "stream",
     "text": [
      "Using sep_token, but it is not set yet.\n",
      "Using pad_token, but it is not set yet.\n",
      "Using cls_token, but it is not set yet.\n",
      "Using mask_token, but it is not set yet.\n"
     ]
    },
    {
     "name": "stdout",
     "output_type": "stream",
     "text": [
      "Generating skeptic opinion.\n"
     ]
    },
    {
     "name": "stderr",
     "output_type": "stream",
     "text": [
      "Using sep_token, but it is not set yet.\n",
      "Using pad_token, but it is not set yet.\n",
      "Using cls_token, but it is not set yet.\n",
      "Using mask_token, but it is not set yet.\n"
     ]
    }
   ],
   "source": [
    "social_dims = [\"baseline\", \"knowledge\", \"power\", \"status\", \"trust\", \"support\", \"romance\", \"similarity\", \"identity\", \"fun\", \"conflict\"]\n",
    "for social_dim in social_dims:\n",
    "    run_n_interactions(social_dim_prompts, skeptic_prompts['baseline'], initial_prompt, opinion_prompt,\n",
    "                       social_dim, n = 3)"
   ]
  },
  {
   "cell_type": "markdown",
   "id": "5933a0ae-6b77-47ba-8607-485863c142da",
   "metadata": {},
   "source": [
    "### Easy and hard skeptic"
   ]
  },
  {
   "cell_type": "markdown",
   "id": "adee6309",
   "metadata": {},
   "source": [
    "Very similiar to the above function. Here, we read all the arguments from the convincer that we generated above. Now, we read all of these arguments, and ask a Skeptic that is easier/harder to convince if it got convinced from this argument."
   ]
  },
  {
   "cell_type": "code",
   "execution_count": 16,
   "id": "aa5c1d66-bd2b-42d6-94c2-42a9ea85b932",
   "metadata": {
    "scrolled": true
   },
   "outputs": [],
   "source": [
    "def get_conv_argument(text):\n",
    "    conv_argument_n_more = text.split('Convincer:')\n",
    "    conv_argument = conv_argument_n_more[2].strip().split('___')[0].strip()\n",
    "    return conv_argument\n",
    "\n",
    "def load_conv_arguments(social_dim):\n",
    "    directory = f\"convs/convs_{social_dim}/\"\n",
    "    conv_arguments = dict()\n",
    "    for file in os.listdir(directory):\n",
    "        with open(join(os.getcwd(),f\"{directory}/{file}\")) as f:\n",
    "            conv_arguments[file] = get_conv_argument(f.read())\n",
    "    return conv_arguments\n",
    "\n",
    "def run_easy_hard_interactions(social_dim_prompts, skeptic_prompt, initial_prompt, opinion_prompt, social_dim):\n",
    "    assert social_dim in [\"baseline\", \"knowledge\", \"power\", \"status\", \"trust\", \"support\", \"romance\",\n",
    "                          \"similarity\", \"identity\", \"fun\", \"conflict\"], f'social_dim must be one of \"baseline\", \"knowledge\", \"power\", \"status\", \"trust\", \"support\", \"romance\", \"similarity\", \"identity\", \"fun\", \"conflict\", but was \"{social_dim}\"'\n",
    "\n",
    "    assert skeptic_difficulty != \"baseline\"\n",
    "    \n",
    "    if not os.path.exists(f\"convs_{skeptic_difficulty}/convs_{social_dim}\"):\n",
    "        os.makedirs(f\"convs_{skeptic_difficulty}/convs_{social_dim}\")\n",
    "\n",
    "    def actual_interaction2(*, convincer_argument=None):\n",
    "        convincer_prompt = social_dim_prompts[social_dim]\n",
    "        interaction = llama_single_interaction(None, skeptic_prompt, initial_prompt, opinion_prompt, convincer_out=convincer_argument)\n",
    "        out = convincer_prompt + \"\\n\\n\" + skeptic_prompt + \"\\n\\n\"\n",
    "        out += show_interaction(interaction)\n",
    "        shared_responses.append(out)\n",
    "        return out\n",
    "\n",
    "    conv_arguments = load_conv_arguments(social_dim)\n",
    "    print(f\"Argments loaded for '{social_dim}'.\")\n",
    "\n",
    "    manager = Manager()\n",
    "    shared_responses = manager.list()\n",
    "\n",
    "    jobs = [Process(target=actual_interaction2, kwargs={\"convincer_argument\":conv_argument}) for conv_fname, conv_argument in conv_arguments.items()] #Currently doesn't support specifying filename\n",
    "    for job in jobs:\n",
    "        job.start()\n",
    "\n",
    "    _ = [job.join() for job in jobs] # We dont need the result, but all processes must finish before proceeding\n",
    "\n",
    "    for response in shared_responses:\n",
    "        with open(f\"convs_{skeptic_difficulty}/convs_{social_dim}/short_conversation_{datetime.datetime.now().strftime('%Y%m%d%H%M%S%f')}.txt\", \"w+\") as f:\n",
    "            f.write(response)"
   ]
  },
  {
   "cell_type": "code",
   "execution_count": 18,
   "id": "widespread-money",
   "metadata": {},
   "outputs": [],
   "source": [
    "social_dims = [\"baseline\", \"knowledge\", \"power\", \"status\", \"trust\", \"support\", \"romance\", \"similarity\", \"identity\", \"fun\", \"conflict\"]\n",
    "skeptic_difficulties = [\"easy\", \"hard\"]\n",
    "for social_dim in social_dims:\n",
    "    for skeptic_difficulty in skeptic_difficulties:\n",
    "        run_easy_hard_interactions(social_dim_prompts, skeptic_prompts[skeptic_difficulty], initial_prompt, opinion_prompt, social_dim)"
   ]
  },
  {
   "cell_type": "code",
   "execution_count": null,
   "id": "presidential-binary",
   "metadata": {},
   "outputs": [],
   "source": []
  }
 ],
 "metadata": {
  "kernelspec": {
   "display_name": "Python 3 (ipykernel)",
   "language": "python",
   "name": "python3"
  },
  "language_info": {
   "codemirror_mode": {
    "name": "ipython",
    "version": 3
   },
   "file_extension": ".py",
   "mimetype": "text/x-python",
   "name": "python",
   "nbconvert_exporter": "python",
   "pygments_lexer": "ipython3",
   "version": "3.10.12"
  }
 },
 "nbformat": 4,
 "nbformat_minor": 5
}
